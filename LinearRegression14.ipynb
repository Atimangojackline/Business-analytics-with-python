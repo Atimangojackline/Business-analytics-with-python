{
  "nbformat": 4,
  "nbformat_minor": 0,
  "metadata": {
    "colab": {
      "provenance": []
    },
    "kernelspec": {
      "name": "python3",
      "display_name": "Python 3"
    },
    "language_info": {
      "name": "python"
    }
  },
  "cells": [
    {
      "cell_type": "code",
      "execution_count": 2,
      "metadata": {
        "id": "eQXrGxSP9Cfi"
      },
      "outputs": [],
      "source": [
        "import numpy as np\n",
        "import matplotlib.pyplot as plt\n",
        "import pandas as pd\n"
      ]
    },
    {
      "cell_type": "code",
      "source": [
        "import pandas as pd"
      ],
      "metadata": {
        "id": "ZOAUSgNPCx88"
      },
      "execution_count": 3,
      "outputs": []
    },
    {
      "cell_type": "code",
      "source": [
        "dataset=pd.read_csv(\"/content/RELIANCE.NS.csv\")"
      ],
      "metadata": {
        "id": "S4jSrJjdC1l8"
      },
      "execution_count": 4,
      "outputs": []
    },
    {
      "cell_type": "code",
      "source": [
        "dataset"
      ],
      "metadata": {
        "colab": {
          "base_uri": "https://localhost:8080/",
          "height": 424
        },
        "id": "9JXJr5DGDAj9",
        "outputId": "2a0b0342-3cce-444f-fbb9-fa3ba9650550"
      },
      "execution_count": 5,
      "outputs": [
        {
          "output_type": "execute_result",
          "data": {
            "text/plain": [
              "      Date         Open\n",
              "0      1.0  2243.000000\n",
              "1      2.0  2334.449951\n",
              "2      3.0  2400.000000\n",
              "3      4.0  2353.000000\n",
              "4      5.0  2278.699951\n",
              "..     ...          ...\n",
              "244  245.0  2424.000000\n",
              "245  246.0  2425.949951\n",
              "246  247.0  2378.000000\n",
              "247  248.0  2372.000000\n",
              "248  249.0  2382.000000\n",
              "\n",
              "[249 rows x 2 columns]"
            ],
            "text/html": [
              "\n",
              "  <div id=\"df-99895108-6d7c-4545-b9f4-dc95ffbfc013\">\n",
              "    <div class=\"colab-df-container\">\n",
              "      <div>\n",
              "<style scoped>\n",
              "    .dataframe tbody tr th:only-of-type {\n",
              "        vertical-align: middle;\n",
              "    }\n",
              "\n",
              "    .dataframe tbody tr th {\n",
              "        vertical-align: top;\n",
              "    }\n",
              "\n",
              "    .dataframe thead th {\n",
              "        text-align: right;\n",
              "    }\n",
              "</style>\n",
              "<table border=\"1\" class=\"dataframe\">\n",
              "  <thead>\n",
              "    <tr style=\"text-align: right;\">\n",
              "      <th></th>\n",
              "      <th>Date</th>\n",
              "      <th>Open</th>\n",
              "    </tr>\n",
              "  </thead>\n",
              "  <tbody>\n",
              "    <tr>\n",
              "      <th>0</th>\n",
              "      <td>1.0</td>\n",
              "      <td>2243.000000</td>\n",
              "    </tr>\n",
              "    <tr>\n",
              "      <th>1</th>\n",
              "      <td>2.0</td>\n",
              "      <td>2334.449951</td>\n",
              "    </tr>\n",
              "    <tr>\n",
              "      <th>2</th>\n",
              "      <td>3.0</td>\n",
              "      <td>2400.000000</td>\n",
              "    </tr>\n",
              "    <tr>\n",
              "      <th>3</th>\n",
              "      <td>4.0</td>\n",
              "      <td>2353.000000</td>\n",
              "    </tr>\n",
              "    <tr>\n",
              "      <th>4</th>\n",
              "      <td>5.0</td>\n",
              "      <td>2278.699951</td>\n",
              "    </tr>\n",
              "    <tr>\n",
              "      <th>...</th>\n",
              "      <td>...</td>\n",
              "      <td>...</td>\n",
              "    </tr>\n",
              "    <tr>\n",
              "      <th>244</th>\n",
              "      <td>245.0</td>\n",
              "      <td>2424.000000</td>\n",
              "    </tr>\n",
              "    <tr>\n",
              "      <th>245</th>\n",
              "      <td>246.0</td>\n",
              "      <td>2425.949951</td>\n",
              "    </tr>\n",
              "    <tr>\n",
              "      <th>246</th>\n",
              "      <td>247.0</td>\n",
              "      <td>2378.000000</td>\n",
              "    </tr>\n",
              "    <tr>\n",
              "      <th>247</th>\n",
              "      <td>248.0</td>\n",
              "      <td>2372.000000</td>\n",
              "    </tr>\n",
              "    <tr>\n",
              "      <th>248</th>\n",
              "      <td>249.0</td>\n",
              "      <td>2382.000000</td>\n",
              "    </tr>\n",
              "  </tbody>\n",
              "</table>\n",
              "<p>249 rows × 2 columns</p>\n",
              "</div>\n",
              "      <button class=\"colab-df-convert\" onclick=\"convertToInteractive('df-99895108-6d7c-4545-b9f4-dc95ffbfc013')\"\n",
              "              title=\"Convert this dataframe to an interactive table.\"\n",
              "              style=\"display:none;\">\n",
              "        \n",
              "  <svg xmlns=\"http://www.w3.org/2000/svg\" height=\"24px\"viewBox=\"0 0 24 24\"\n",
              "       width=\"24px\">\n",
              "    <path d=\"M0 0h24v24H0V0z\" fill=\"none\"/>\n",
              "    <path d=\"M18.56 5.44l.94 2.06.94-2.06 2.06-.94-2.06-.94-.94-2.06-.94 2.06-2.06.94zm-11 1L8.5 8.5l.94-2.06 2.06-.94-2.06-.94L8.5 2.5l-.94 2.06-2.06.94zm10 10l.94 2.06.94-2.06 2.06-.94-2.06-.94-.94-2.06-.94 2.06-2.06.94z\"/><path d=\"M17.41 7.96l-1.37-1.37c-.4-.4-.92-.59-1.43-.59-.52 0-1.04.2-1.43.59L10.3 9.45l-7.72 7.72c-.78.78-.78 2.05 0 2.83L4 21.41c.39.39.9.59 1.41.59.51 0 1.02-.2 1.41-.59l7.78-7.78 2.81-2.81c.8-.78.8-2.07 0-2.86zM5.41 20L4 18.59l7.72-7.72 1.47 1.35L5.41 20z\"/>\n",
              "  </svg>\n",
              "      </button>\n",
              "      \n",
              "  <style>\n",
              "    .colab-df-container {\n",
              "      display:flex;\n",
              "      flex-wrap:wrap;\n",
              "      gap: 12px;\n",
              "    }\n",
              "\n",
              "    .colab-df-convert {\n",
              "      background-color: #E8F0FE;\n",
              "      border: none;\n",
              "      border-radius: 50%;\n",
              "      cursor: pointer;\n",
              "      display: none;\n",
              "      fill: #1967D2;\n",
              "      height: 32px;\n",
              "      padding: 0 0 0 0;\n",
              "      width: 32px;\n",
              "    }\n",
              "\n",
              "    .colab-df-convert:hover {\n",
              "      background-color: #E2EBFA;\n",
              "      box-shadow: 0px 1px 2px rgba(60, 64, 67, 0.3), 0px 1px 3px 1px rgba(60, 64, 67, 0.15);\n",
              "      fill: #174EA6;\n",
              "    }\n",
              "\n",
              "    [theme=dark] .colab-df-convert {\n",
              "      background-color: #3B4455;\n",
              "      fill: #D2E3FC;\n",
              "    }\n",
              "\n",
              "    [theme=dark] .colab-df-convert:hover {\n",
              "      background-color: #434B5C;\n",
              "      box-shadow: 0px 1px 3px 1px rgba(0, 0, 0, 0.15);\n",
              "      filter: drop-shadow(0px 1px 2px rgba(0, 0, 0, 0.3));\n",
              "      fill: #FFFFFF;\n",
              "    }\n",
              "  </style>\n",
              "\n",
              "      <script>\n",
              "        const buttonEl =\n",
              "          document.querySelector('#df-99895108-6d7c-4545-b9f4-dc95ffbfc013 button.colab-df-convert');\n",
              "        buttonEl.style.display =\n",
              "          google.colab.kernel.accessAllowed ? 'block' : 'none';\n",
              "\n",
              "        async function convertToInteractive(key) {\n",
              "          const element = document.querySelector('#df-99895108-6d7c-4545-b9f4-dc95ffbfc013');\n",
              "          const dataTable =\n",
              "            await google.colab.kernel.invokeFunction('convertToInteractive',\n",
              "                                                     [key], {});\n",
              "          if (!dataTable) return;\n",
              "\n",
              "          const docLinkHtml = 'Like what you see? Visit the ' +\n",
              "            '<a target=\"_blank\" href=https://colab.research.google.com/notebooks/data_table.ipynb>data table notebook</a>'\n",
              "            + ' to learn more about interactive tables.';\n",
              "          element.innerHTML = '';\n",
              "          dataTable['output_type'] = 'display_data';\n",
              "          await google.colab.output.renderOutput(dataTable, element);\n",
              "          const docLink = document.createElement('div');\n",
              "          docLink.innerHTML = docLinkHtml;\n",
              "          element.appendChild(docLink);\n",
              "        }\n",
              "      </script>\n",
              "    </div>\n",
              "  </div>\n",
              "  "
            ]
          },
          "metadata": {},
          "execution_count": 5
        }
      ]
    },
    {
      "cell_type": "code",
      "source": [
        "x=dataset.iloc[:, :-1].values"
      ],
      "metadata": {
        "id": "I28FUfErDC7l"
      },
      "execution_count": 27,
      "outputs": []
    },
    {
      "cell_type": "code",
      "source": [
        "x"
      ],
      "metadata": {
        "colab": {
          "base_uri": "https://localhost:8080/"
        },
        "id": "OBSzGihXDfC1",
        "outputId": "a55f57c7-4e02-4a4d-c5d3-29b8ee3a558b"
      },
      "execution_count": 28,
      "outputs": [
        {
          "output_type": "execute_result",
          "data": {
            "text/plain": [
              "array([[  1.],\n",
              "       [  2.],\n",
              "       [  3.],\n",
              "       [  4.],\n",
              "       [  5.],\n",
              "       [  6.],\n",
              "       [  7.],\n",
              "       [  8.],\n",
              "       [  9.],\n",
              "       [ 10.],\n",
              "       [ 11.],\n",
              "       [ 12.],\n",
              "       [ 13.],\n",
              "       [ 14.],\n",
              "       [ 15.],\n",
              "       [ 16.],\n",
              "       [ 17.],\n",
              "       [ 18.],\n",
              "       [ 19.],\n",
              "       [ 20.],\n",
              "       [ 21.],\n",
              "       [ 22.],\n",
              "       [ 23.],\n",
              "       [ 24.],\n",
              "       [ 25.],\n",
              "       [ 26.],\n",
              "       [ 27.],\n",
              "       [ 28.],\n",
              "       [ 29.],\n",
              "       [ 30.],\n",
              "       [ 31.],\n",
              "       [ 32.],\n",
              "       [ 33.],\n",
              "       [ 34.],\n",
              "       [ 35.],\n",
              "       [ 36.],\n",
              "       [ 37.],\n",
              "       [ 38.],\n",
              "       [ 39.],\n",
              "       [ 40.],\n",
              "       [ 41.],\n",
              "       [ 42.],\n",
              "       [ 43.],\n",
              "       [ 44.],\n",
              "       [ 45.],\n",
              "       [ 46.],\n",
              "       [ 47.],\n",
              "       [ 48.],\n",
              "       [ 49.],\n",
              "       [ 50.],\n",
              "       [ 51.],\n",
              "       [ 52.],\n",
              "       [ 53.],\n",
              "       [ 54.],\n",
              "       [ 55.],\n",
              "       [ 56.],\n",
              "       [ 57.],\n",
              "       [ 58.],\n",
              "       [ 59.],\n",
              "       [ 60.],\n",
              "       [ 61.],\n",
              "       [ 62.],\n",
              "       [ 63.],\n",
              "       [ 64.],\n",
              "       [ 65.],\n",
              "       [ 66.],\n",
              "       [ 67.],\n",
              "       [ 68.],\n",
              "       [ 69.],\n",
              "       [ 70.],\n",
              "       [ 71.],\n",
              "       [ 72.],\n",
              "       [ 73.],\n",
              "       [ 74.],\n",
              "       [ 75.],\n",
              "       [ 76.],\n",
              "       [ 77.],\n",
              "       [ 78.],\n",
              "       [ 79.],\n",
              "       [ 80.],\n",
              "       [ 81.],\n",
              "       [ 82.],\n",
              "       [ 83.],\n",
              "       [ 84.],\n",
              "       [ 85.],\n",
              "       [ 86.],\n",
              "       [ 87.],\n",
              "       [ 88.],\n",
              "       [ 89.],\n",
              "       [ 90.],\n",
              "       [ 91.],\n",
              "       [ 92.],\n",
              "       [ 93.],\n",
              "       [ 94.],\n",
              "       [ 95.],\n",
              "       [ 96.],\n",
              "       [ 97.],\n",
              "       [ 98.],\n",
              "       [ 99.],\n",
              "       [100.],\n",
              "       [101.],\n",
              "       [102.],\n",
              "       [103.],\n",
              "       [104.],\n",
              "       [105.],\n",
              "       [106.],\n",
              "       [107.],\n",
              "       [108.],\n",
              "       [109.],\n",
              "       [110.],\n",
              "       [111.],\n",
              "       [112.],\n",
              "       [113.],\n",
              "       [114.],\n",
              "       [115.],\n",
              "       [116.],\n",
              "       [117.],\n",
              "       [118.],\n",
              "       [119.],\n",
              "       [120.],\n",
              "       [121.],\n",
              "       [122.],\n",
              "       [123.],\n",
              "       [124.],\n",
              "       [125.],\n",
              "       [126.],\n",
              "       [127.],\n",
              "       [128.],\n",
              "       [129.],\n",
              "       [130.],\n",
              "       [131.],\n",
              "       [132.],\n",
              "       [133.],\n",
              "       [134.],\n",
              "       [135.],\n",
              "       [136.],\n",
              "       [137.],\n",
              "       [138.],\n",
              "       [139.],\n",
              "       [140.],\n",
              "       [141.],\n",
              "       [142.],\n",
              "       [143.],\n",
              "       [144.],\n",
              "       [145.],\n",
              "       [146.],\n",
              "       [147.],\n",
              "       [148.],\n",
              "       [149.],\n",
              "       [150.],\n",
              "       [151.],\n",
              "       [152.],\n",
              "       [153.],\n",
              "       [154.],\n",
              "       [155.],\n",
              "       [156.],\n",
              "       [157.],\n",
              "       [158.],\n",
              "       [159.],\n",
              "       [160.],\n",
              "       [161.],\n",
              "       [162.],\n",
              "       [163.],\n",
              "       [164.],\n",
              "       [165.],\n",
              "       [166.],\n",
              "       [167.],\n",
              "       [168.],\n",
              "       [169.],\n",
              "       [170.],\n",
              "       [171.],\n",
              "       [172.],\n",
              "       [173.],\n",
              "       [174.],\n",
              "       [175.],\n",
              "       [176.],\n",
              "       [177.],\n",
              "       [178.],\n",
              "       [179.],\n",
              "       [180.],\n",
              "       [181.],\n",
              "       [182.],\n",
              "       [183.],\n",
              "       [184.],\n",
              "       [185.],\n",
              "       [186.],\n",
              "       [187.],\n",
              "       [188.],\n",
              "       [189.],\n",
              "       [190.],\n",
              "       [191.],\n",
              "       [192.],\n",
              "       [193.],\n",
              "       [194.],\n",
              "       [195.],\n",
              "       [196.],\n",
              "       [197.],\n",
              "       [198.],\n",
              "       [199.],\n",
              "       [200.],\n",
              "       [201.],\n",
              "       [202.],\n",
              "       [203.],\n",
              "       [204.],\n",
              "       [205.],\n",
              "       [206.],\n",
              "       [207.],\n",
              "       [208.],\n",
              "       [209.],\n",
              "       [210.],\n",
              "       [211.],\n",
              "       [212.],\n",
              "       [213.],\n",
              "       [214.],\n",
              "       [215.],\n",
              "       [216.],\n",
              "       [217.],\n",
              "       [218.],\n",
              "       [219.],\n",
              "       [220.],\n",
              "       [221.],\n",
              "       [222.],\n",
              "       [223.],\n",
              "       [224.],\n",
              "       [225.],\n",
              "       [226.],\n",
              "       [227.],\n",
              "       [228.],\n",
              "       [229.],\n",
              "       [230.],\n",
              "       [231.],\n",
              "       [232.],\n",
              "       [233.],\n",
              "       [234.],\n",
              "       [235.],\n",
              "       [236.],\n",
              "       [237.],\n",
              "       [238.],\n",
              "       [239.],\n",
              "       [240.],\n",
              "       [241.],\n",
              "       [242.],\n",
              "       [243.],\n",
              "       [244.],\n",
              "       [245.],\n",
              "       [246.],\n",
              "       [247.],\n",
              "       [248.],\n",
              "       [249.]])"
            ]
          },
          "metadata": {},
          "execution_count": 28
        }
      ]
    },
    {
      "cell_type": "code",
      "source": [
        "y=dataset.iloc[:,-1].values"
      ],
      "metadata": {
        "id": "ZawFQ7QtDgIF"
      },
      "execution_count": 49,
      "outputs": []
    },
    {
      "cell_type": "code",
      "source": [
        "y"
      ],
      "metadata": {
        "colab": {
          "base_uri": "https://localhost:8080/"
        },
        "id": "X7_Vk63BDn5F",
        "outputId": "f45cebbf-db62-4e91-bb55-95c7da03328e"
      },
      "execution_count": 50,
      "outputs": [
        {
          "output_type": "execute_result",
          "data": {
            "text/plain": [
              "array([2243.      , 2334.449951, 2400.      , 2353.      , 2278.699951,\n",
              "       2211.5     , 2236.      , 2400.      , 2376.050049, 2386.899902,\n",
              "       2427.949951, 2382.      , 2432.75    , 2444.      , 2460.100098,\n",
              "       2523.      , 2510.      , 2582.5     , 2610.      , 2638.      ,\n",
              "       2639.899902, 2664.949951, 2636.      , 2655.449951, 2651.100098,\n",
              "       2587.100098, 2595.100098, 2560.      , 2600.      , 2587.      ,\n",
              "       2574.5     , 2533.      , 2558.      , 2657.100098, 2750.899902,\n",
              "       2758.899902, 2742.399902, 2710.      , 2755.850098, 2809.949951,\n",
              "       2856.149902, 2762.      , 2785.      , 2723.5     , 2612.199951,\n",
              "       2574.949951, 2495.      , 2472.649902, 2427.5     , 2426.      ,\n",
              "       2434.449951, 2435.100098, 2539.649902, 2484.      , 2512.5     ,\n",
              "       2631.5     , 2607.      , 2635.      , 2624.399902, 2593.050049,\n",
              "       2615.      , 2641.399902, 2634.300049, 2634.      , 2744.      ,\n",
              "       2780.      , 2769.899902, 2772.75    , 2710.      , 2771.899902,\n",
              "       2650.      , 2650.050049, 2617.550049, 2623.      , 2560.      ,\n",
              "       2605.      , 2560.      , 2558.100098, 2515.050049, 2480.      ,\n",
              "       2544.949951, 2482.100098, 2507.199951, 2580.      , 2574.899902,\n",
              "       2378.949951, 2423.      , 2420.100098, 2425.899902, 2418.      ,\n",
              "       2376.5     , 2404.      , 2427.300049, 2388.      , 2415.      ,\n",
              "       2421.      , 2400.300049, 2540.      , 2494.      , 2500.      ,\n",
              "       2467.449951, 2421.100098, 2419.949951, 2436.      , 2474.699951,\n",
              "       2519.149902, 2572.5     , 2600.      , 2610.      , 2576.      ,\n",
              "       2531.      , 2576.899902, 2603.100098, 2590.300049, 2646.199951,\n",
              "       2665.      , 2660.      , 2650.      , 2617.      , 2594.      ,\n",
              "       2640.100098, 2648.949951, 2633.      , 2585.      , 2614.      ,\n",
              "       2582.649902, 2560.399902, 2531.      , 2573.      , 2575.      ,\n",
              "       2588.25    , 2610.      , 2570.550049, 2618.      , 2575.      ,\n",
              "       2583.      , 2543.75    , 2499.199951, 2522.449951, 2496.75    ,\n",
              "       2486.      , 2485.      , 2394.050049, 2394.      , 2360.350098,\n",
              "       2360.      , 2311.      , 2391.5     , 2397.800049, 2429.      ,\n",
              "       2414.649902, 2405.      , 2414.      , 2352.      , 2371.399902,\n",
              "       2415.      , 2355.      , 2422.      , 2454.5     , 2485.      ,\n",
              "       2507.699951, 2460.      , 2499.      , 2458.      , 2465.      ,\n",
              "       2541.      , 2600.      , 2532.300049, 2529.850098, 2553.899902,\n",
              "       2591.      , 2610.300049, 2590.      , 2600.      , 2630.75    ,\n",
              "       2622.300049, 2610.      , 2584.949951, 2606.75    , 2588.      ,\n",
              "       2545.      , 2575.      , 2566.      , 2589.      , 2608.899902,\n",
              "       2703.949951, 2712.5     , 2741.800049, 2730.      , 2712.      ,\n",
              "       2665.100098, 2685.      , 2660.      , 2646.      , 2585.5     ,\n",
              "       2613.100098, 2637.649902, 2602.5     , 2571.      , 2581.      ,\n",
              "       2583.899902, 2621.      , 2598.      , 2563.300049, 2514.75    ,\n",
              "       2530.      , 2538.      , 2527.      , 2545.100098, 2550.      ,\n",
              "       2565.050049, 2557.      , 2523.5     , 2526.649902, 2545.300049,\n",
              "       2606.      , 2552.5     , 2524.850098, 2458.399902, 2472.699951,\n",
              "       2458.      , 2473.5     , 2472.899902, 2475.      , 2449.      ,\n",
              "       2440.      , 2412.449951, 2384.399902, 2331.699951, 2382.      ,\n",
              "       2379.949951, 2318.      , 2349.      , 2315.      , 2312.      ,\n",
              "       2313.      , 2353.449951, 2354.899902, 2340.199951, 2329.949951,\n",
              "       2376.      , 2449.449951, 2420.      , 2445.      , 2424.      ,\n",
              "       2425.949951, 2378.      , 2372.      , 2382.      ])"
            ]
          },
          "metadata": {},
          "execution_count": 50
        }
      ]
    },
    {
      "cell_type": "code",
      "source": [
        "from sklearn.model_selection import train_test_split\n",
        "x_train, x_test, y_train, y_test = train_test_split(x,y, test_size=0.2, random_state= 0)\n"
      ],
      "metadata": {
        "id": "nHet2s9WEXtE"
      },
      "execution_count": 51,
      "outputs": []
    },
    {
      "cell_type": "code",
      "source": [
        "from sklearn.linear_model import LinearRegression\n",
        "regressor=LinearRegression()\n",
        "regressor.fit(x_train, y_train)"
      ],
      "metadata": {
        "colab": {
          "base_uri": "https://localhost:8080/"
        },
        "id": "IgP63HONKiWX",
        "outputId": "acdb6e4f-6c3e-4d22-defc-1ef87466df91"
      },
      "execution_count": 52,
      "outputs": [
        {
          "output_type": "execute_result",
          "data": {
            "text/plain": [
              "LinearRegression()"
            ]
          },
          "metadata": {},
          "execution_count": 52
        }
      ]
    },
    {
      "cell_type": "code",
      "source": [
        "y_pred=regressor.predict(x_test)"
      ],
      "metadata": {
        "id": "cq13PLC1LMhH"
      },
      "execution_count": 53,
      "outputs": []
    },
    {
      "cell_type": "code",
      "source": [
        "plt.scatter(x_test,y_test, color='red')\n",
        "plt.scatter(x_train ,y_train, color='green')\n",
        "plt.plot(x_test,y_pred, color='blue')\n",
        "plt.xlabel('date')\n",
        "plt.ylabel('sales open')\n",
        "plt.show()"
      ],
      "metadata": {
        "colab": {
          "base_uri": "https://localhost:8080/",
          "height": 279
        },
        "id": "ttZyv6A_MhKp",
        "outputId": "c6790c97-8530-44e9-aea5-c4a4b60c8a61"
      },
      "execution_count": 54,
      "outputs": [
        {
          "output_type": "display_data",
          "data": {
            "text/plain": [
              "<Figure size 432x288 with 1 Axes>"
            ],
            "image/png": "[encoded data removed]"
          },
          "metadata": {
            "needs_background": "light"
          }
        }
      ]
    },
    {
      "cell_type": "code",
      "source": [
        "x_questionbank=dataset.iloc[0:200,0:1].values\n",
        "print(x_questionbank)"
      ],
      "metadata": {
        "colab": {
          "base_uri": "https://localhost:8080/"
        },
        "id": "YUr7y0TSQjSf",
        "outputId": "2f1f536f-faca-40c5-dd49-29e3bbbf6425"
      },
      "execution_count": 55,
      "outputs": [
        {
          "output_type": "stream",
          "name": "stdout",
          "text": [
            "[[  1.]\n",
            " [  2.]\n",
            " [  3.]\n",
            " [  4.]\n",
            " [  5.]\n",
            " [  6.]\n",
            " [  7.]\n",
            " [  8.]\n",
            " [  9.]\n",
            " [ 10.]\n",
            " [ 11.]\n",
            " [ 12.]\n",
            " [ 13.]\n",
            " [ 14.]\n",
            " [ 15.]\n",
            " [ 16.]\n",
            " [ 17.]\n",
            " [ 18.]\n",
            " [ 19.]\n",
            " [ 20.]\n",
            " [ 21.]\n",
            " [ 22.]\n",
            " [ 23.]\n",
            " [ 24.]\n",
            " [ 25.]\n",
            " [ 26.]\n",
            " [ 27.]\n",
            " [ 28.]\n",
            " [ 29.]\n",
            " [ 30.]\n",
            " [ 31.]\n",
            " [ 32.]\n",
            " [ 33.]\n",
            " [ 34.]\n",
            " [ 35.]\n",
            " [ 36.]\n",
            " [ 37.]\n",
            " [ 38.]\n",
            " [ 39.]\n",
            " [ 40.]\n",
            " [ 41.]\n",
            " [ 42.]\n",
            " [ 43.]\n",
            " [ 44.]\n",
            " [ 45.]\n",
            " [ 46.]\n",
            " [ 47.]\n",
            " [ 48.]\n",
            " [ 49.]\n",
            " [ 50.]\n",
            " [ 51.]\n",
            " [ 52.]\n",
            " [ 53.]\n",
            " [ 54.]\n",
            " [ 55.]\n",
            " [ 56.]\n",
            " [ 57.]\n",
            " [ 58.]\n",
            " [ 59.]\n",
            " [ 60.]\n",
            " [ 61.]\n",
            " [ 62.]\n",
            " [ 63.]\n",
            " [ 64.]\n",
            " [ 65.]\n",
            " [ 66.]\n",
            " [ 67.]\n",
            " [ 68.]\n",
            " [ 69.]\n",
            " [ 70.]\n",
            " [ 71.]\n",
            " [ 72.]\n",
            " [ 73.]\n",
            " [ 74.]\n",
            " [ 75.]\n",
            " [ 76.]\n",
            " [ 77.]\n",
            " [ 78.]\n",
            " [ 79.]\n",
            " [ 80.]\n",
            " [ 81.]\n",
            " [ 82.]\n",
            " [ 83.]\n",
            " [ 84.]\n",
            " [ 85.]\n",
            " [ 86.]\n",
            " [ 87.]\n",
            " [ 88.]\n",
            " [ 89.]\n",
            " [ 90.]\n",
            " [ 91.]\n",
            " [ 92.]\n",
            " [ 93.]\n",
            " [ 94.]\n",
            " [ 95.]\n",
            " [ 96.]\n",
            " [ 97.]\n",
            " [ 98.]\n",
            " [ 99.]\n",
            " [100.]\n",
            " [101.]\n",
            " [102.]\n",
            " [103.]\n",
            " [104.]\n",
            " [105.]\n",
            " [106.]\n",
            " [107.]\n",
            " [108.]\n",
            " [109.]\n",
            " [110.]\n",
            " [111.]\n",
            " [112.]\n",
            " [113.]\n",
            " [114.]\n",
            " [115.]\n",
            " [116.]\n",
            " [117.]\n",
            " [118.]\n",
            " [119.]\n",
            " [120.]\n",
            " [121.]\n",
            " [122.]\n",
            " [123.]\n",
            " [124.]\n",
            " [125.]\n",
            " [126.]\n",
            " [127.]\n",
            " [128.]\n",
            " [129.]\n",
            " [130.]\n",
            " [131.]\n",
            " [132.]\n",
            " [133.]\n",
            " [134.]\n",
            " [135.]\n",
            " [136.]\n",
            " [137.]\n",
            " [138.]\n",
            " [139.]\n",
            " [140.]\n",
            " [141.]\n",
            " [142.]\n",
            " [143.]\n",
            " [144.]\n",
            " [145.]\n",
            " [146.]\n",
            " [147.]\n",
            " [148.]\n",
            " [149.]\n",
            " [150.]\n",
            " [151.]\n",
            " [152.]\n",
            " [153.]\n",
            " [154.]\n",
            " [155.]\n",
            " [156.]\n",
            " [157.]\n",
            " [158.]\n",
            " [159.]\n",
            " [160.]\n",
            " [161.]\n",
            " [162.]\n",
            " [163.]\n",
            " [164.]\n",
            " [165.]\n",
            " [166.]\n",
            " [167.]\n",
            " [168.]\n",
            " [169.]\n",
            " [170.]\n",
            " [171.]\n",
            " [172.]\n",
            " [173.]\n",
            " [174.]\n",
            " [175.]\n",
            " [176.]\n",
            " [177.]\n",
            " [178.]\n",
            " [179.]\n",
            " [180.]\n",
            " [181.]\n",
            " [182.]\n",
            " [183.]\n",
            " [184.]\n",
            " [185.]\n",
            " [186.]\n",
            " [187.]\n",
            " [188.]\n",
            " [189.]\n",
            " [190.]\n",
            " [191.]\n",
            " [192.]\n",
            " [193.]\n",
            " [194.]\n",
            " [195.]\n",
            " [196.]\n",
            " [197.]\n",
            " [198.]\n",
            " [199.]\n",
            " [200.]]\n"
          ]
        }
      ]
    },
    {
      "cell_type": "code",
      "source": [
        "x_test=dataset.iloc[200:249,0:1].values\n",
        "print(x_test)"
      ],
      "metadata": {
        "colab": {
          "base_uri": "https://localhost:8080/"
        },
        "id": "AnNa4yy3Q6zr",
        "outputId": "13477de3-2f89-4e54-d6d2-4f389b67c553"
      },
      "execution_count": 56,
      "outputs": [
        {
          "output_type": "stream",
          "name": "stdout",
          "text": [
            "[[201.]\n",
            " [202.]\n",
            " [203.]\n",
            " [204.]\n",
            " [205.]\n",
            " [206.]\n",
            " [207.]\n",
            " [208.]\n",
            " [209.]\n",
            " [210.]\n",
            " [211.]\n",
            " [212.]\n",
            " [213.]\n",
            " [214.]\n",
            " [215.]\n",
            " [216.]\n",
            " [217.]\n",
            " [218.]\n",
            " [219.]\n",
            " [220.]\n",
            " [221.]\n",
            " [222.]\n",
            " [223.]\n",
            " [224.]\n",
            " [225.]\n",
            " [226.]\n",
            " [227.]\n",
            " [228.]\n",
            " [229.]\n",
            " [230.]\n",
            " [231.]\n",
            " [232.]\n",
            " [233.]\n",
            " [234.]\n",
            " [235.]\n",
            " [236.]\n",
            " [237.]\n",
            " [238.]\n",
            " [239.]\n",
            " [240.]\n",
            " [241.]\n",
            " [242.]\n",
            " [243.]\n",
            " [244.]\n",
            " [245.]\n",
            " [246.]\n",
            " [247.]\n",
            " [248.]\n",
            " [249.]]\n"
          ]
        }
      ]
    },
    {
      "cell_type": "code",
      "source": [
        "y_test=dataset.iloc[200:249,1].values\n",
        "print(y_test)"
      ],
      "metadata": {
        "colab": {
          "base_uri": "https://localhost:8080/"
        },
        "id": "fqnOw9NGRMW-",
        "outputId": "7aa9e274-35f4-49cc-f884-8fae13685e02"
      },
      "execution_count": 59,
      "outputs": [
        {
          "output_type": "stream",
          "name": "stdout",
          "text": [
            "[2583.899902 2621.       2598.       2563.300049 2514.75     2530.\n",
            " 2538.       2527.       2545.100098 2550.       2565.050049 2557.\n",
            " 2523.5      2526.649902 2545.300049 2606.       2552.5      2524.850098\n",
            " 2458.399902 2472.699951 2458.       2473.5      2472.899902 2475.\n",
            " 2449.       2440.       2412.449951 2384.399902 2331.699951 2382.\n",
            " 2379.949951 2318.       2349.       2315.       2312.       2313.\n",
            " 2353.449951 2354.899902 2340.199951 2329.949951 2376.       2449.449951\n",
            " 2420.       2445.       2424.       2425.949951 2378.       2372.\n",
            " 2382.      ]\n"
          ]
        }
      ]
    },
    {
      "cell_type": "code",
      "source": [
        "y_questionbank=dataset.iloc[0:200,1].values\n",
        "print(y_questionbank)"
      ],
      "metadata": {
        "colab": {
          "base_uri": "https://localhost:8080/"
        },
        "id": "nVd3qYZHRh8A",
        "outputId": "937c6ecb-cc69-4942-a2ce-cd9a5e0818e9"
      },
      "execution_count": 60,
      "outputs": [
        {
          "output_type": "stream",
          "name": "stdout",
          "text": [
            "[2243.       2334.449951 2400.       2353.       2278.699951 2211.5\n",
            " 2236.       2400.       2376.050049 2386.899902 2427.949951 2382.\n",
            " 2432.75     2444.       2460.100098 2523.       2510.       2582.5\n",
            " 2610.       2638.       2639.899902 2664.949951 2636.       2655.449951\n",
            " 2651.100098 2587.100098 2595.100098 2560.       2600.       2587.\n",
            " 2574.5      2533.       2558.       2657.100098 2750.899902 2758.899902\n",
            " 2742.399902 2710.       2755.850098 2809.949951 2856.149902 2762.\n",
            " 2785.       2723.5      2612.199951 2574.949951 2495.       2472.649902\n",
            " 2427.5      2426.       2434.449951 2435.100098 2539.649902 2484.\n",
            " 2512.5      2631.5      2607.       2635.       2624.399902 2593.050049\n",
            " 2615.       2641.399902 2634.300049 2634.       2744.       2780.\n",
            " 2769.899902 2772.75     2710.       2771.899902 2650.       2650.050049\n",
            " 2617.550049 2623.       2560.       2605.       2560.       2558.100098\n",
            " 2515.050049 2480.       2544.949951 2482.100098 2507.199951 2580.\n",
            " 2574.899902 2378.949951 2423.       2420.100098 2425.899902 2418.\n",
            " 2376.5      2404.       2427.300049 2388.       2415.       2421.\n",
            " 2400.300049 2540.       2494.       2500.       2467.449951 2421.100098\n",
            " 2419.949951 2436.       2474.699951 2519.149902 2572.5      2600.\n",
            " 2610.       2576.       2531.       2576.899902 2603.100098 2590.300049\n",
            " 2646.199951 2665.       2660.       2650.       2617.       2594.\n",
            " 2640.100098 2648.949951 2633.       2585.       2614.       2582.649902\n",
            " 2560.399902 2531.       2573.       2575.       2588.25     2610.\n",
            " 2570.550049 2618.       2575.       2583.       2543.75     2499.199951\n",
            " 2522.449951 2496.75     2486.       2485.       2394.050049 2394.\n",
            " 2360.350098 2360.       2311.       2391.5      2397.800049 2429.\n",
            " 2414.649902 2405.       2414.       2352.       2371.399902 2415.\n",
            " 2355.       2422.       2454.5      2485.       2507.699951 2460.\n",
            " 2499.       2458.       2465.       2541.       2600.       2532.300049\n",
            " 2529.850098 2553.899902 2591.       2610.300049 2590.       2600.\n",
            " 2630.75     2622.300049 2610.       2584.949951 2606.75     2588.\n",
            " 2545.       2575.       2566.       2589.       2608.899902 2703.949951\n",
            " 2712.5      2741.800049 2730.       2712.       2665.100098 2685.\n",
            " 2660.       2646.       2585.5      2613.100098 2637.649902 2602.5\n",
            " 2571.       2581.      ]\n"
          ]
        }
      ]
    },
    {
      "cell_type": "code",
      "source": [
        "from sklearn.linear_model import LinearRegression\n",
        "regressor=LinearRegression()\n",
        "regressor.fit(x_questionbank, y_questionbank)"
      ],
      "metadata": {
        "colab": {
          "base_uri": "https://localhost:8080/"
        },
        "id": "2WPUuI6xR1J8",
        "outputId": "7613f097-182e-451b-a8fe-78fdb0df3331"
      },
      "execution_count": 63,
      "outputs": [
        {
          "output_type": "execute_result",
          "data": {
            "text/plain": [
              "LinearRegression()"
            ]
          },
          "metadata": {},
          "execution_count": 63
        }
      ]
    },
    {
      "cell_type": "code",
      "source": [
        "regressor.predict(x_test)"
      ],
      "metadata": {
        "colab": {
          "base_uri": "https://localhost:8080/"
        },
        "id": "gzEImrXwTdS0",
        "outputId": "6dfd376d-3426-4de2-8836-adc2a11f833d"
      },
      "execution_count": 64,
      "outputs": [
        {
          "output_type": "execute_result",
          "data": {
            "text/plain": [
              "array([2562.35913877, 2562.49747105, 2562.63580332, 2562.77413559,\n",
              "       2562.91246786, 2563.05080013, 2563.1891324 , 2563.32746467,\n",
              "       2563.46579694, 2563.60412921, 2563.74246148, 2563.88079375,\n",
              "       2564.01912602, 2564.15745829, 2564.29579056, 2564.43412283,\n",
              "       2564.5724551 , 2564.71078737, 2564.84911964, 2564.98745191,\n",
              "       2565.12578418, 2565.26411645, 2565.40244873, 2565.540781  ,\n",
              "       2565.67911327, 2565.81744554, 2565.95577781, 2566.09411008,\n",
              "       2566.23244235, 2566.37077462, 2566.50910689, 2566.64743916,\n",
              "       2566.78577143, 2566.9241037 , 2567.06243597, 2567.20076824,\n",
              "       2567.33910051, 2567.47743278, 2567.61576505, 2567.75409732,\n",
              "       2567.89242959, 2568.03076186, 2568.16909414, 2568.30742641,\n",
              "       2568.44575868, 2568.58409095, 2568.72242322, 2568.86075549,\n",
              "       2568.99908776])"
            ]
          },
          "metadata": {},
          "execution_count": 64
        }
      ]
    },
    {
      "cell_type": "code",
      "source": [
        "plt.scatter(x_questionbank, y_questionbank, color='green')\n",
        "plt.scatter(x_test, y_test, color='blue')\n",
        "plt.plot(x_test,regressor.predict(x_test), color='red')\n",
        "plt.xlabel('package')\n",
        "plt.ylabel('sales')"
      ],
      "metadata": {
        "colab": {
          "base_uri": "https://localhost:8080/",
          "height": 296
        },
        "id": "uD4tnTgPScaY",
        "outputId": "0db5a5a5-55df-40d3-af9c-0176f73c2816"
      },
      "execution_count": 65,
      "outputs": [
        {
          "output_type": "execute_result",
          "data": {
            "text/plain": [
              "Text(0, 0.5, 'sales')"
            ]
          },
          "metadata": {},
          "execution_count": 65
        },
        {
          "output_type": "display_data",
          "data": {
            "text/plain": [
              "<Figure size 432x288 with 1 Axes>"
            ],
            "image/png": "[encoded data removed]"
          },
          "metadata": {
            "needs_background": "light"
          }
        }
      ]
    },
    {
      "cell_type": "code",
      "source": [],
      "metadata": {
        "id": "wMiCOs5CTmj0"
      },
      "execution_count": null,
      "outputs": []
    }
  ]
}