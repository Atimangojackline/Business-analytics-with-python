{
  "nbformat": 4,
  "nbformat_minor": 0,
  "metadata": {
    "colab": {
      "name": "Untitled0.ipynb",
      "provenance": []
    },
    "kernelspec": {
      "name": "python3",
      "display_name": "Python 3"
    },
    "language_info": {
      "name": "python"
    }
  },
  "cells": [
    {
      "cell_type": "code",
      "execution_count": 1,
      "metadata": {
        "colab": {
          "base_uri": "https://localhost:8080/"
        },
        "id": "b6cHIGLHNvKR",
        "outputId": "d7e423fd-15e5-4436-e4b4-2dca2ff96bc5"
      },
      "outputs": [
        {
          "name": "stdout",
          "output_type": "stream",
          "text": [
            "enter a number36\n"
          ]
        }
      ],
      "source": [
        "x=input('enter a number')"
      ]
    },
    {
      "cell_type": "code",
      "source": [
        "y=input('enter a number')"
      ],
      "metadata": {
        "colab": {
          "base_uri": "https://localhost:8080/"
        },
        "id": "GHmOfU6kPVKV",
        "outputId": "e2fc172e-02ba-4a50-cb9e-94bdcd648d9f"
      },
      "execution_count": 2,
      "outputs": [
        {
          "name": "stdout",
          "output_type": "stream",
          "text": [
            "enter a number48\n"
          ]
        }
      ]
    },
    {
      "cell_type": "code",
      "source": [
        "x+y"
      ],
      "metadata": {
        "colab": {
          "base_uri": "https://localhost:8080/",
          "height": 35
        },
        "id": "QJWQzbVbPkLr",
        "outputId": "a8af4a7b-c15a-4786-d95f-af30677b85fd"
      },
      "execution_count": 3,
      "outputs": [
        {
          "output_type": "execute_result",
          "data": {
            "text/plain": [
              "'3648'"
            ],
            "application/vnd.google.colaboratory.intrinsic+json": {
              "type": "string"
            }
          },
          "metadata": {},
          "execution_count": 3
        }
      ]
    },
    {
      "cell_type": "code",
      "source": [
        "int(x)+int(y)"
      ],
      "metadata": {
        "colab": {
          "base_uri": "https://localhost:8080/"
        },
        "id": "IOKvbikxP8vO",
        "outputId": "39d6666d-afd5-4ec9-ddeb-36179f823d47"
      },
      "execution_count": 4,
      "outputs": [
        {
          "output_type": "execute_result",
          "data": {
            "text/plain": [
              "84"
            ]
          },
          "metadata": {},
          "execution_count": 4
        }
      ]
    },
    {
      "cell_type": "code",
      "source": [
        "int(x)*int(y)"
      ],
      "metadata": {
        "colab": {
          "base_uri": "https://localhost:8080/"
        },
        "id": "D7UARbqxQoUR",
        "outputId": "1dafb8e5-2baf-4653-8dac-c214324b1a74"
      },
      "execution_count": 5,
      "outputs": [
        {
          "output_type": "execute_result",
          "data": {
            "text/plain": [
              "1728"
            ]
          },
          "metadata": {},
          "execution_count": 5
        }
      ]
    },
    {
      "cell_type": "code",
      "source": [
        "int(x)/int(y)"
      ],
      "metadata": {
        "colab": {
          "base_uri": "https://localhost:8080/"
        },
        "id": "wI9cOiKtQ7lq",
        "outputId": "e46967bd-261d-4cdc-f457-a44155eab85c"
      },
      "execution_count": 6,
      "outputs": [
        {
          "output_type": "execute_result",
          "data": {
            "text/plain": [
              "0.75"
            ]
          },
          "metadata": {},
          "execution_count": 6
        }
      ]
    },
    {
      "cell_type": "code",
      "source": [
        "int(x)-int(y)"
      ],
      "metadata": {
        "colab": {
          "base_uri": "https://localhost:8080/"
        },
        "id": "nXdiqKE4RIKM",
        "outputId": "1760d7e0-1859-4ef0-da8e-f23b927eaaff"
      },
      "execution_count": 7,
      "outputs": [
        {
          "output_type": "execute_result",
          "data": {
            "text/plain": [
              "-12"
            ]
          },
          "metadata": {},
          "execution_count": 7
        }
      ]
    },
    {
      "cell_type": "code",
      "source": [
        "print('int(x)+int(y)')"
      ],
      "metadata": {
        "colab": {
          "base_uri": "https://localhost:8080/"
        },
        "id": "_8HPmORzRTry",
        "outputId": "e8cefcf6-9313-442e-b2f5-2fc872f876b0"
      },
      "execution_count": 8,
      "outputs": [
        {
          "output_type": "stream",
          "name": "stdout",
          "text": [
            "int(x)+int(y)\n"
          ]
        }
      ]
    },
    {
      "cell_type": "code",
      "source": [
        "x=int(input('enter a number'))\n",
        "y=int(input('enter a number'))"
      ],
      "metadata": {
        "colab": {
          "base_uri": "https://localhost:8080/"
        },
        "id": "VlDtyu1ZRuzO",
        "outputId": "fece7ac9-22cc-4630-b287-d5c322781c10"
      },
      "execution_count": 11,
      "outputs": [
        {
          "name": "stdout",
          "output_type": "stream",
          "text": [
            "enter a number36\n",
            "enter a number47\n"
          ]
        }
      ]
    },
    {
      "cell_type": "code",
      "source": [
        "x+y"
      ],
      "metadata": {
        "colab": {
          "base_uri": "https://localhost:8080/"
        },
        "id": "9twQCgqwSI-V",
        "outputId": "166c97a4-fffe-4129-8e3e-50c61dc3a945"
      },
      "execution_count": 12,
      "outputs": [
        {
          "output_type": "execute_result",
          "data": {
            "text/plain": [
              "83"
            ]
          },
          "metadata": {},
          "execution_count": 12
        }
      ]
    },
    {
      "cell_type": "code",
      "source": [
        "x/y"
      ],
      "metadata": {
        "colab": {
          "base_uri": "https://localhost:8080/"
        },
        "id": "g28FnSe8SpW9",
        "outputId": "f11814d1-ea3e-4c71-c4be-b1e8bccae8c5"
      },
      "execution_count": 13,
      "outputs": [
        {
          "output_type": "execute_result",
          "data": {
            "text/plain": [
              "0.7659574468085106"
            ]
          },
          "metadata": {},
          "execution_count": 13
        }
      ]
    },
    {
      "cell_type": "code",
      "source": [
        "x*y"
      ],
      "metadata": {
        "colab": {
          "base_uri": "https://localhost:8080/"
        },
        "id": "RviRK4WsStcN",
        "outputId": "4799b32a-626c-43aa-e34a-b245d88141e6"
      },
      "execution_count": 14,
      "outputs": [
        {
          "output_type": "execute_result",
          "data": {
            "text/plain": [
              "1692"
            ]
          },
          "metadata": {},
          "execution_count": 14
        }
      ]
    },
    {
      "cell_type": "code",
      "source": [
        "y-x"
      ],
      "metadata": {
        "colab": {
          "base_uri": "https://localhost:8080/"
        },
        "id": "r2-YLr0wSv6Z",
        "outputId": "e3572a2b-aa40-4be4-95ae-b66491890133"
      },
      "execution_count": 15,
      "outputs": [
        {
          "output_type": "execute_result",
          "data": {
            "text/plain": [
              "11"
            ]
          },
          "metadata": {},
          "execution_count": 15
        }
      ]
    },
    {
      "cell_type": "code",
      "source": [
        "P=100000\n",
        "N=4\n",
        "R=0.2"
      ],
      "metadata": {
        "id": "s2PXApSNSyah"
      },
      "execution_count": 21,
      "outputs": []
    },
    {
      "cell_type": "code",
      "source": [
        "I=P*N*R"
      ],
      "metadata": {
        "id": "C__R-IXqT53M"
      },
      "execution_count": 22,
      "outputs": []
    },
    {
      "cell_type": "code",
      "source": [
        "P=int(input('enter principal amount'))\n",
        "R=int(input('enter rate of interest in precentage'))\n",
        "N=int(input('enter number of year'))"
      ],
      "metadata": {
        "colab": {
          "base_uri": "https://localhost:8080/"
        },
        "id": "DRujr-H1Unzi",
        "outputId": "8204cddc-92f6-4283-897e-f26535a7d2df"
      },
      "execution_count": 35,
      "outputs": [
        {
          "name": "stdout",
          "output_type": "stream",
          "text": [
            "enter principal amount1000\n",
            "enter rate of interest in precentage8\n",
            "enter number of year20\n"
          ]
        }
      ]
    },
    {
      "cell_type": "code",
      "source": [
        "I=P*N*R"
      ],
      "metadata": {
        "id": "SnC1ExzqZo0l"
      },
      "execution_count": 37,
      "outputs": []
    },
    {
      "cell_type": "code",
      "source": [
        "print(I)"
      ],
      "metadata": {
        "colab": {
          "base_uri": "https://localhost:8080/"
        },
        "id": "Lf0U8HmYZrrc",
        "outputId": "6b70d3b3-087c-4028-fc6c-8f336cbf09db"
      },
      "execution_count": 38,
      "outputs": [
        {
          "output_type": "stream",
          "name": "stdout",
          "text": [
            "160000\n"
          ]
        }
      ]
    },
    {
      "cell_type": "code",
      "source": [
        "if x>50:\n",
        "  print('you are pass')\n",
        "if x<50:\n",
        "  print('you are failled')"
      ],
      "metadata": {
        "colab": {
          "base_uri": "https://localhost:8080/"
        },
        "id": "At2fHH3vVykb",
        "outputId": "16a0cf76-92ab-4eac-a195-1e6d043c1da2"
      },
      "execution_count": 31,
      "outputs": [
        {
          "output_type": "stream",
          "name": "stdout",
          "text": [
            "you are failled\n"
          ]
        }
      ]
    },
    {
      "cell_type": "code",
      "source": [
        "S=int(input('salary amount'))\n"
      ],
      "metadata": {
        "colab": {
          "base_uri": "https://localhost:8080/"
        },
        "id": "o7RM3J7TYv6N",
        "outputId": "f5362e19-27af-47b9-faa9-073e1d63ff0b"
      },
      "execution_count": 39,
      "outputs": [
        {
          "name": "stdout",
          "output_type": "stream",
          "text": [
            "salary amount300000\n"
          ]
        }
      ]
    },
    {
      "cell_type": "code",
      "source": [
        "T=int(input('tax levied in percentage'))"
      ],
      "metadata": {
        "colab": {
          "base_uri": "https://localhost:8080/"
        },
        "id": "SoYVvb1ObRtb",
        "outputId": "48e74b0d-aeb5-47f9-f4a6-01f536b47b92"
      },
      "execution_count": 41,
      "outputs": [
        {
          "name": "stdout",
          "output_type": "stream",
          "text": [
            "tax levied in percentage10\n"
          ]
        }
      ]
    },
    {
      "cell_type": "code",
      "source": [
        "if S>250000:\n",
        "  print('yes  taxable')\n",
        "  print(S*10/100)\n",
        "if S<250000:\n",
        "  print('not taxable')"
      ],
      "metadata": {
        "colab": {
          "base_uri": "https://localhost:8080/"
        },
        "id": "EWTLtfFgbzDS",
        "outputId": "3efb3f50-ebfe-460d-d5d1-0c11e94de20a"
      },
      "execution_count": 47,
      "outputs": [
        {
          "output_type": "stream",
          "name": "stdout",
          "text": [
            "yes  taxable\n",
            "30000.0\n"
          ]
        }
      ]
    },
    {
      "cell_type": "code",
      "source": [
        "if x<250000:\n",
        "  print('.......')\n",
        "if 250000<x<500000:\n",
        "  print('.......')\n",
        "if x> 500000:\n",
        "  print('.......')"
      ],
      "metadata": {
        "colab": {
          "base_uri": "https://localhost:8080/"
        },
        "id": "c4Tv_kFNcZTS",
        "outputId": "c33be1f2-80e0-41fe-9338-a3b65a533a83"
      },
      "execution_count": 50,
      "outputs": [
        {
          "output_type": "stream",
          "name": "stdout",
          "text": [
            ".......\n"
          ]
        }
      ]
    },
    {
      "cell_type": "code",
      "source": [
        ""
      ],
      "metadata": {
        "id": "M9c9Q3Wihrl4"
      },
      "execution_count": null,
      "outputs": []
    }
  ]
}